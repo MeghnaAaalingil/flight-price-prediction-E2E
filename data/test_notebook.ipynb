{
 "cells": [
  {
   "cell_type": "code",
   "execution_count": 2,
   "metadata": {},
   "outputs": [],
   "source": [
    "import pandas as pd"
   ]
  },
  {
   "cell_type": "code",
   "execution_count": 3,
   "metadata": {},
   "outputs": [],
   "source": [
    "df=pd.read_csv(\"FlightDetails.csv\")"
   ]
  },
  {
   "cell_type": "code",
   "execution_count": 4,
   "metadata": {},
   "outputs": [
    {
     "name": "stdout",
     "output_type": "stream",
     "text": [
      "Unique values in airline: ['SpiceJet' 'AirAsia' 'Vistara' 'GO_FIRST' 'Indigo' 'Air_India']\n",
      "Unique values in source_city: ['Delhi' 'Mumbai' 'Bangalore' 'Kolkata' 'Hyderabad' 'Chennai']\n",
      "Unique values in departure_time: ['Evening' 'Early_Morning' 'Morning' 'Afternoon' 'Night' 'Late_Night']\n",
      "Unique values in stops: ['zero' 'one' 'two_or_more']\n",
      "Unique values in arrival_time: ['Night' 'Morning' 'Early_Morning' 'Afternoon' 'Evening' 'Late_Night']\n",
      "Unique values in destination_city: ['Mumbai' 'Bangalore' 'Kolkata' 'Hyderabad' 'Chennai' 'Delhi']\n",
      "Unique values in stops: ['zero' 'one' 'two_or_more']\n",
      "Unique values in class: ['Economy' 'Business']\n"
     ]
    }
   ],
   "source": [
    "# airline,flight,source_city,departure_time,stops,arrival_time,destination_city,class,duration,days_left,price\n",
    "\n",
    "# List of categorical columns\n",
    "categorical_columns = [\"airline\", \"source_city\", \"departure_time\", \"stops\", \"arrival_time\", \"destination_city\", \"class\"]\n",
    "\n",
    "# Find unique values in each categorical column\n",
    "for column in categorical_columns:\n",
    "    print(f\"Unique values in {column}: {df[column].unique()}\")"
   ]
  }
 ],
 "metadata": {
  "kernelspec": {
   "display_name": "Python 3",
   "language": "python",
   "name": "python3"
  },
  "language_info": {
   "codemirror_mode": {
    "name": "ipython",
    "version": 3
   },
   "file_extension": ".py",
   "mimetype": "text/x-python",
   "name": "python",
   "nbconvert_exporter": "python",
   "pygments_lexer": "ipython3",
   "version": "3.9.21"
  }
 },
 "nbformat": 4,
 "nbformat_minor": 2
}
